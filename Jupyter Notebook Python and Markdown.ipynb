{
 "cells": [
  {
   "cell_type": "markdown",
   "metadata": {},
   "source": [
    "# Analyse des Accidents Aériens\n",
    "\n",
    "## Introduction\n",
    "Ce carnet présente une analyse des données relatives aux accidents aériens. L'objectif est d'identifier les types d'avions les plus impliqués dans les accidents et d'évaluer les tendances au fil du temps. À partir de ces résultats, nous formulerons des recommandations pour améliorer la sécurité aérienne."
   ]
  },
  {
   "cell_type": "code",
   "execution_count": null,
   "metadata": {},
   "outputs": [],
   "source": [
    "## Chargement des Données\n",
    "Nous allons d'abord charger les données à partir d'un fichier CSV."
   ]
  },
  {
   "cell_type": "code",
   "execution_count": null,
   "metadata": {},
   "outputs": [],
   "source": [
    "import pandas as pd\n",
    "import matplotlib.pyplot as plt\n",
    "import seaborn as sns"
   ]
  },
  {
   "cell_type": "code",
   "execution_count": null,
   "metadata": {},
   "outputs": [],
   "source": [
    "# Chargement des fichiers CSV\n",
    "\n",
    "df1 = pd.read_csv('C:\\\\Users\\\\Saint Germain Emode\\\\Downloads\\\\AviationData.csv', encoding='ISO-8859-1', low_memory=False)\n",
    "df2 = pd.read_csv('C:\\\\Users\\\\Saint Germain Emode\\\\Downloads\\\\USState_Codes.csv', encoding='ISO-8859-1', low_memory=False)"
   ]
  },
  {
   "cell_type": "code",
   "execution_count": null,
   "metadata": {},
   "outputs": [],
   "source": [
    "# Afficher les premières lignes du DataFrame\n",
    "print(df1.dtypes)\n",
    "print(df2.dtypes)"
   ]
  },
  {
   "cell_type": "markdown",
   "metadata": {},
   "source": [
    " ## Identifier les Valeurs Manquantes"
   ]
  },
  {
   "cell_type": "code",
   "execution_count": null,
   "metadata": {},
   "outputs": [],
   "source": [
    "# Afficher le nombre de valeurs manquantes par colonne\n",
    "print(df1.isnull().sum())\n",
    "print(df2.isnull().sum())"
   ]
  },
  {
   "cell_type": "code",
   "execution_count": null,
   "metadata": {},
   "outputs": [],
   "source": [
    "# Afficher les statistiques descriptives\n",
    "print(df1.describe())\n",
    "print(df2.describe())"
   ]
  },
  {
   "cell_type": "markdown",
   "metadata": {},
   "source": [
    "## Vérifier les Valeurs Aberrantes"
   ]
  },
  {
   "cell_type": "code",
   "execution_count": null,
   "metadata": {},
   "outputs": [],
   "source": [
    "# Statistiques descriptives pour le premier DataFrame\n",
    "print(\"\\nStatistiques descriptives de AviationData:\")\n",
    "print(df1.describe(include='all'))\n",
    "\n",
    "# Statistiques descriptives pour le deuxième DataFrame\n",
    "print(\"\\nStatistiques descriptives de USState_Codes:\")\n",
    "print(df2.describe(include='all'))"
   ]
  },
  {
   "cell_type": "markdown",
   "metadata": {},
   "source": [
    "## Supprimer les Valeurs Manquantes\n",
    "## Normaliser les Valeurs"
   ]
  },
  {
   "cell_type": "code",
   "execution_count": null,
   "metadata": {},
   "outputs": [],
   "source": []
  },
  {
   "cell_type": "code",
   "execution_count": null,
   "metadata": {},
   "outputs": [],
   "source": [
    "# Chargement des fichiers CSV\n",
    "df1 = pd.read_csv('C:\\\\Users\\\\Saint Germain Emode\\\\Downloads\\\\AviationData.csv', encoding='ISO-8859-1', low_memory=False)\n",
    "\n",
    "# Remplacer les valeurs NaN par 'Inconnu'\n",
    "df1['Injury.Severity'].fillna('Inconnu', inplace=True)\n",
    "\n",
    "# Normaliser les valeurs en remplaçant 'Fatal(x)' par 'Fatal'\n",
    "df1['Injury.Severity'] = df1['Injury.Severity'].str.replace(r'Fatal\\(\\d+\\)', 'Fatal', regex=True)\n",
    "\n",
    "# Tracer l'histogramme de la sévérité des blessures\n",
    "plt.figure(figsize=(10, 6))\n",
    "sns.countplot(data=df1, x='Injury.Severity', order=df1['Injury.Severity'].value_counts().index)\n",
    "plt.title('Distribution de la Sévérité des Blessures')\n",
    "plt.xlabel('Sévérité des Blessures')\n",
    "plt.ylabel('Nombre d\\'Accidents')\n",
    "plt.xticks(rotation=45)\n",
    "plt.show()"
   ]
  },
  {
   "cell_type": "code",
   "execution_count": null,
   "metadata": {},
   "outputs": [],
   "source": [
    "# Supprimer les doublons\n",
    "df1.drop_duplicates(inplace=True)"
   ]
  },
  {
   "cell_type": "code",
   "execution_count": null,
   "metadata": {},
   "outputs": [],
   "source": [
    "# Agrégation des données\n",
    "aggregated_data = df1.groupby('Aircraft.Category')['Injury.Severity'].value_counts().unstack(fill_value=0)\n",
    "\n",
    "# Afficher les données agrégées\n",
    "print(aggregated_data)\n",
    "print(aggregated_data)"
   ]
  },
  {
   "cell_type": "markdown",
   "metadata": {},
   "source": [
    "## Analyser les Données\n",
    "\n",
    "- Calculer les Statistiques de Base\n",
    "- Identifier les Tendances\n",
    "- Formuler des Recommandations"
   ]
  },
  {
   "cell_type": "code",
   "execution_count": null,
   "metadata": {},
   "outputs": [],
   "source": [
    "# Statistiques descriptives\n",
    "\n",
    "statistics = df1.describe(include='all')  \n",
    "print(\"Statistiques descriptives :\")\n",
    "print(statistics"
   ]
  },
  {
   "cell_type": "code",
   "execution_count": null,
   "metadata": {},
   "outputs": [],
   "source": [
    "# 2. Identifier les tendances\n",
    "\n",
    "accidents_by_aircraft = df1['Aircraft.Type'].value_counts()\n",
    "print(\"\\nAccidents par type d'avion :\")\n",
    "print(accidents_by_aircraft)"
   ]
  },
  {
   "cell_type": "code",
   "execution_count": null,
   "metadata": {},
   "outputs": [],
   "source": [
    "# Visualiser les accidents par type d'avion\n",
    "\n",
    "plt.figure(figsize=(12, 6))\n",
    "accidents_by_aircraft.plot(kind='bar')\n",
    "plt.title('Nombre d\\'Accidents par Type d\\'Avion')\n",
    "plt.xlabel('Type d\\'Avion')\n",
    "plt.ylabel('Nombre d\\'Accidents')\n",
    "plt.xticks(rotation=45)\n",
    "plt.show()"
   ]
  },
  {
   "cell_type": "code",
   "execution_count": null,
   "metadata": {},
   "outputs": [],
   "source": [
    "# Les recommandations\n",
    "\n",
    "recommendations = [\n",
    "    \"Renforcer les réglementations de sécurité pour les types d'avions les plus impliqués dans des accidents.\",\n",
    "    \"Mettre en place des programmes de formation spécifiques pour les pilotes des types d'avions à haut risque.\",\n",
    "    \"Investir dans des technologies de sécurité avancées pour les modèles d'avions qui enregistrent un nombre élevé d'accidents.\""
   ]
  },
  {
   "cell_type": "code",
   "execution_count": null,
   "metadata": {},
   "outputs": [],
   "source": [
    "# Visualiser les accidents au Fil des Ans\n",
    "\n",
    "df1['Event.Date'] = pd.to_datetime(df1['Event.Date'])  \n",
    " accidents_over_time = df1.groupby(df1['Event.Date'].dt.year)['Aircraft.Category'].count()  \n",
    "\n",
    " plt.figure(figsize=(12, 6))\n",
    " plt.plot(accidents_over_time.index, accidents_over_time.values, marker='o')\n",
    " plt.title('Tendances des Accidents au Fil des Ans')\n",
    " plt.xlabel('Année')\n",
    " plt.ylabel('Nombre d\\'Accidents')\n",
    " plt.grid()\n",
    " plt.show()"
   ]
  }
 ],
 "metadata": {
  "kernelspec": {
   "display_name": "Python 3",
   "language": "python",
   "name": "python3"
  },
  "language_info": {
   "codemirror_mode": {
    "name": "ipython",
    "version": 3
   },
   "file_extension": ".py",
   "mimetype": "text/x-python",
   "name": "python",
   "nbconvert_exporter": "python",
   "pygments_lexer": "ipython3",
   "version": "3.8.5"
  }
 },
 "nbformat": 4,
 "nbformat_minor": 4
}
