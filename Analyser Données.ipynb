{
 "cells": [
  {
   "cell_type": "code",
   "execution_count": 1,
   "metadata": {},
   "outputs": [],
   "source": [
    "import pandas as pd\n",
    "import matplotlib.pyplot as plt\n",
    "import seaborn as sns"
   ]
  },
  {
   "cell_type": "code",
   "execution_count": 7,
   "metadata": {},
   "outputs": [],
   "source": [
    "df1 = pd.read_csv('C:\\\\Users\\\\Saint Germain Emode\\\\Downloads\\\\AviationData.csv', encoding='ISO-8859-1', low_memory=False)\n",
    "df2 = pd.read_csv('C:\\\\Users\\\\Saint Germain Emode\\\\Downloads\\\\USState_Codes.csv', encoding='ISO-8859-1', low_memory=False)"
   ]
  },
  {
   "cell_type": "code",
   "execution_count": 8,
   "metadata": {},
   "outputs": [
    {
     "name": "stdout",
     "output_type": "stream",
     "text": [
      "Event.Id                   object\n",
      "Investigation.Type         object\n",
      "Accident.Number            object\n",
      "Event.Date                 object\n",
      "Location                   object\n",
      "Country                    object\n",
      "Latitude                   object\n",
      "Longitude                  object\n",
      "Airport.Code               object\n",
      "Airport.Name               object\n",
      "Injury.Severity            object\n",
      "Aircraft.damage            object\n",
      "Aircraft.Category          object\n",
      "Registration.Number        object\n",
      "Make                       object\n",
      "Model                      object\n",
      "Amateur.Built              object\n",
      "Number.of.Engines         float64\n",
      "Engine.Type                object\n",
      "FAR.Description            object\n",
      "Schedule                   object\n",
      "Purpose.of.flight          object\n",
      "Air.carrier                object\n",
      "Total.Fatal.Injuries      float64\n",
      "Total.Serious.Injuries    float64\n",
      "Total.Minor.Injuries      float64\n",
      "Total.Uninjured           float64\n",
      "Weather.Condition          object\n",
      "Broad.phase.of.flight      object\n",
      "Report.Status              object\n",
      "Publication.Date           object\n",
      "dtype: object\n",
      "US_State        object\n",
      "Abbreviation    object\n",
      "dtype: object\n"
     ]
    }
   ],
   "source": [
    "print(df1.dtypes)\n",
    "print(df2.dtypes)\n"
   ]
  },
  {
   "cell_type": "code",
   "execution_count": 9,
   "metadata": {},
   "outputs": [
    {
     "name": "stdout",
     "output_type": "stream",
     "text": [
      "Event.Id                      0\n",
      "Investigation.Type            0\n",
      "Accident.Number               0\n",
      "Event.Date                    0\n",
      "Location                     52\n",
      "Country                     226\n",
      "Latitude                  54507\n",
      "Longitude                 54516\n",
      "Airport.Code              38640\n",
      "Airport.Name              36099\n",
      "Injury.Severity            1000\n",
      "Aircraft.damage            3194\n",
      "Aircraft.Category         56602\n",
      "Registration.Number        1317\n",
      "Make                         63\n",
      "Model                        92\n",
      "Amateur.Built               102\n",
      "Number.of.Engines          6084\n",
      "Engine.Type                7077\n",
      "FAR.Description           56866\n",
      "Schedule                  76307\n",
      "Purpose.of.flight          6192\n",
      "Air.carrier               72241\n",
      "Total.Fatal.Injuries      11401\n",
      "Total.Serious.Injuries    12510\n",
      "Total.Minor.Injuries      11933\n",
      "Total.Uninjured            5912\n",
      "Weather.Condition          4492\n",
      "Broad.phase.of.flight     27165\n",
      "Report.Status              6381\n",
      "Publication.Date          13771\n",
      "dtype: int64\n",
      "US_State        0\n",
      "Abbreviation    0\n",
      "dtype: int64\n"
     ]
    }
   ],
   "source": [
    "print(df1.isnull().sum())\n",
    "print(df2.isnull().sum())"
   ]
  },
  {
   "cell_type": "code",
   "execution_count": 10,
   "metadata": {},
   "outputs": [
    {
     "name": "stdout",
     "output_type": "stream",
     "text": [
      "       Number.of.Engines  Total.Fatal.Injuries  Total.Serious.Injuries  \\\n",
      "count       82805.000000          77488.000000            76379.000000   \n",
      "mean            1.146585              0.647855                0.279881   \n",
      "std             0.446510              5.485960                1.544084   \n",
      "min             0.000000              0.000000                0.000000   \n",
      "25%             1.000000              0.000000                0.000000   \n",
      "50%             1.000000              0.000000                0.000000   \n",
      "75%             1.000000              0.000000                0.000000   \n",
      "max             8.000000            349.000000              161.000000   \n",
      "\n",
      "       Total.Minor.Injuries  Total.Uninjured  \n",
      "count          76956.000000     82977.000000  \n",
      "mean               0.357061         5.325440  \n",
      "std                2.235625        27.913634  \n",
      "min                0.000000         0.000000  \n",
      "25%                0.000000         0.000000  \n",
      "50%                0.000000         1.000000  \n",
      "75%                0.000000         2.000000  \n",
      "max              380.000000       699.000000  \n",
      "           US_State Abbreviation\n",
      "count            62           62\n",
      "unique           62           62\n",
      "top     Connecticut           VT\n",
      "freq              1            1\n"
     ]
    }
   ],
   "source": [
    "print(df1.describe())\n",
    "print(df2.describe())"
   ]
  },
  {
   "cell_type": "code",
   "execution_count": 11,
   "metadata": {},
   "outputs": [
    {
     "name": "stdout",
     "output_type": "stream",
     "text": [
      "Colonnes dans AviationData:\n",
      "Index(['Event.Id', 'Investigation.Type', 'Accident.Number', 'Event.Date',\n",
      "       'Location', 'Country', 'Latitude', 'Longitude', 'Airport.Code',\n",
      "       'Airport.Name', 'Injury.Severity', 'Aircraft.damage',\n",
      "       'Aircraft.Category', 'Registration.Number', 'Make', 'Model',\n",
      "       'Amateur.Built', 'Number.of.Engines', 'Engine.Type', 'FAR.Description',\n",
      "       'Schedule', 'Purpose.of.flight', 'Air.carrier', 'Total.Fatal.Injuries',\n",
      "       'Total.Serious.Injuries', 'Total.Minor.Injuries', 'Total.Uninjured',\n",
      "       'Weather.Condition', 'Broad.phase.of.flight', 'Report.Status',\n",
      "       'Publication.Date'],\n",
      "      dtype='object')\n",
      "\n",
      "Colonnes dans USState_Codes:\n",
      "Index(['US_State', 'Abbreviation'], dtype='object')\n"
     ]
    }
   ],
   "source": [
    "print(\"Colonnes dans AviationData:\")\n",
    "print(df1.columns)\n",
    "print(\"\\nColonnes dans USState_Codes:\")\n",
    "print(df2.columns)"
   ]
  },
  {
   "cell_type": "code",
   "execution_count": 13,
   "metadata": {},
   "outputs": [
    {
     "name": "stdout",
     "output_type": "stream",
     "text": [
      "\n",
      "Premières lignes de AviationData:\n",
      "         Event.Id Investigation.Type Accident.Number  Event.Date  \\\n",
      "0  20001218X45444           Accident      SEA87LA080  1948-10-24   \n",
      "1  20001218X45447           Accident      LAX94LA336  1962-07-19   \n",
      "2  20061025X01555           Accident      NYC07LA005  1974-08-30   \n",
      "3  20001218X45448           Accident      LAX96LA321  1977-06-19   \n",
      "4  20041105X01764           Accident      CHI79FA064  1979-08-02   \n",
      "\n",
      "          Location        Country   Latitude   Longitude Airport.Code  \\\n",
      "0  MOOSE CREEK, ID  United States        NaN         NaN          NaN   \n",
      "1   BRIDGEPORT, CA  United States        NaN         NaN          NaN   \n",
      "2    Saltville, VA  United States  36.922223  -81.878056          NaN   \n",
      "3       EUREKA, CA  United States        NaN         NaN          NaN   \n",
      "4       Canton, OH  United States        NaN         NaN          NaN   \n",
      "\n",
      "  Airport.Name  ... Purpose.of.flight Air.carrier Total.Fatal.Injuries  \\\n",
      "0          NaN  ...          Personal         NaN                  2.0   \n",
      "1          NaN  ...          Personal         NaN                  4.0   \n",
      "2          NaN  ...          Personal         NaN                  3.0   \n",
      "3          NaN  ...          Personal         NaN                  2.0   \n",
      "4          NaN  ...          Personal         NaN                  1.0   \n",
      "\n",
      "  Total.Serious.Injuries Total.Minor.Injuries Total.Uninjured  \\\n",
      "0                    0.0                  0.0             0.0   \n",
      "1                    0.0                  0.0             0.0   \n",
      "2                    NaN                  NaN             NaN   \n",
      "3                    0.0                  0.0             0.0   \n",
      "4                    2.0                  NaN             0.0   \n",
      "\n",
      "  Weather.Condition  Broad.phase.of.flight   Report.Status Publication.Date  \n",
      "0               UNK                 Cruise  Probable Cause              NaN  \n",
      "1               UNK                Unknown  Probable Cause       19-09-1996  \n",
      "2               IMC                 Cruise  Probable Cause       26-02-2007  \n",
      "3               IMC                 Cruise  Probable Cause       12-09-2000  \n",
      "4               VMC               Approach  Probable Cause       16-04-1980  \n",
      "\n",
      "[5 rows x 31 columns]\n",
      "\n",
      "Premières lignes de USState_Codes:\n",
      "     US_State Abbreviation\n",
      "0     Alabama           AL\n",
      "1      Alaska           AK\n",
      "2     Arizona           AZ\n",
      "3    Arkansas           AR\n",
      "4  California           CA\n"
     ]
    }
   ],
   "source": [
    "print(\"\\nPremières lignes de AviationData:\")\n",
    "print(df1.head())\n",
    "print(\"\\nPremières lignes de USState_Codes:\")\n",
    "print(df2.head())"
   ]
  },
  {
   "cell_type": "code",
   "execution_count": 15,
   "metadata": {},
   "outputs": [
    {
     "name": "stdout",
     "output_type": "stream",
     "text": [
      "\n",
      "Valeurs manquantes dans AviationData:\n",
      "Event.Id                      0\n",
      "Investigation.Type            0\n",
      "Accident.Number               0\n",
      "Event.Date                    0\n",
      "Location                     52\n",
      "Country                     226\n",
      "Latitude                  54507\n",
      "Longitude                 54516\n",
      "Airport.Code              38640\n",
      "Airport.Name              36099\n",
      "Injury.Severity            1000\n",
      "Aircraft.damage            3194\n",
      "Aircraft.Category         56602\n",
      "Registration.Number        1317\n",
      "Make                         63\n",
      "Model                        92\n",
      "Amateur.Built               102\n",
      "Number.of.Engines          6084\n",
      "Engine.Type                7077\n",
      "FAR.Description           56866\n",
      "Schedule                  76307\n",
      "Purpose.of.flight          6192\n",
      "Air.carrier               72241\n",
      "Total.Fatal.Injuries      11401\n",
      "Total.Serious.Injuries    12510\n",
      "Total.Minor.Injuries      11933\n",
      "Total.Uninjured            5912\n",
      "Weather.Condition          4492\n",
      "Broad.phase.of.flight     27165\n",
      "Report.Status              6381\n",
      "Publication.Date          13771\n",
      "dtype: int64\n",
      "\n",
      "Valeurs manquantes dans USState_Codes:\n",
      "US_State        0\n",
      "Abbreviation    0\n",
      "dtype: int64\n"
     ]
    }
   ],
   "source": [
    "print(\"\\nValeurs manquantes dans AviationData:\")\n",
    "print(df1.isnull().sum())\n",
    "print(\"\\nValeurs manquantes dans USState_Codes:\")\n",
    "print(df2.isnull().sum())"
   ]
  },
  {
   "cell_type": "code",
   "execution_count": 16,
   "metadata": {},
   "outputs": [
    {
     "name": "stdout",
     "output_type": "stream",
     "text": [
      "\n",
      "Statistiques descriptives de AviationData:\n",
      "              Event.Id Investigation.Type Accident.Number  Event.Date  \\\n",
      "count            88889              88889           88889       88889   \n",
      "unique           87951                  2           88863       14782   \n",
      "top     20001214X45071           Accident      CEN23MA034  1984-06-30   \n",
      "freq                 3              85015               2          25   \n",
      "mean               NaN                NaN             NaN         NaN   \n",
      "std                NaN                NaN             NaN         NaN   \n",
      "min                NaN                NaN             NaN         NaN   \n",
      "25%                NaN                NaN             NaN         NaN   \n",
      "50%                NaN                NaN             NaN         NaN   \n",
      "75%                NaN                NaN             NaN         NaN   \n",
      "max                NaN                NaN             NaN         NaN   \n",
      "\n",
      "             Location        Country Latitude Longitude Airport.Code  \\\n",
      "count           88837          88663    34382     34373        50249   \n",
      "unique          27758            219    25589     27154        10375   \n",
      "top     ANCHORAGE, AK  United States  332739N  0112457W         NONE   \n",
      "freq              434          82248       19        24         1488   \n",
      "mean              NaN            NaN      NaN       NaN          NaN   \n",
      "std               NaN            NaN      NaN       NaN          NaN   \n",
      "min               NaN            NaN      NaN       NaN          NaN   \n",
      "25%               NaN            NaN      NaN       NaN          NaN   \n",
      "50%               NaN            NaN      NaN       NaN          NaN   \n",
      "75%               NaN            NaN      NaN       NaN          NaN   \n",
      "max               NaN            NaN      NaN       NaN          NaN   \n",
      "\n",
      "       Airport.Name  ... Purpose.of.flight Air.carrier Total.Fatal.Injuries  \\\n",
      "count         52790  ...             82697       16648         77488.000000   \n",
      "unique        24871  ...                26       13590                  NaN   \n",
      "top         Private  ...          Personal       Pilot                  NaN   \n",
      "freq            240  ...             49448         258                  NaN   \n",
      "mean            NaN  ...               NaN         NaN             0.647855   \n",
      "std             NaN  ...               NaN         NaN             5.485960   \n",
      "min             NaN  ...               NaN         NaN             0.000000   \n",
      "25%             NaN  ...               NaN         NaN             0.000000   \n",
      "50%             NaN  ...               NaN         NaN             0.000000   \n",
      "75%             NaN  ...               NaN         NaN             0.000000   \n",
      "max             NaN  ...               NaN         NaN           349.000000   \n",
      "\n",
      "       Total.Serious.Injuries Total.Minor.Injuries Total.Uninjured  \\\n",
      "count            76379.000000         76956.000000    82977.000000   \n",
      "unique                    NaN                  NaN             NaN   \n",
      "top                       NaN                  NaN             NaN   \n",
      "freq                      NaN                  NaN             NaN   \n",
      "mean                 0.279881             0.357061        5.325440   \n",
      "std                  1.544084             2.235625       27.913634   \n",
      "min                  0.000000             0.000000        0.000000   \n",
      "25%                  0.000000             0.000000        0.000000   \n",
      "50%                  0.000000             0.000000        1.000000   \n",
      "75%                  0.000000             0.000000        2.000000   \n",
      "max                161.000000           380.000000      699.000000   \n",
      "\n",
      "       Weather.Condition  Broad.phase.of.flight   Report.Status  \\\n",
      "count              84397                  61724           82508   \n",
      "unique                 4                     12           17075   \n",
      "top                  VMC                Landing  Probable Cause   \n",
      "freq               77303                  15428           61754   \n",
      "mean                 NaN                    NaN             NaN   \n",
      "std                  NaN                    NaN             NaN   \n",
      "min                  NaN                    NaN             NaN   \n",
      "25%                  NaN                    NaN             NaN   \n",
      "50%                  NaN                    NaN             NaN   \n",
      "75%                  NaN                    NaN             NaN   \n",
      "max                  NaN                    NaN             NaN   \n",
      "\n",
      "       Publication.Date  \n",
      "count             75118  \n",
      "unique             2924  \n",
      "top          25-09-2020  \n",
      "freq              17019  \n",
      "mean                NaN  \n",
      "std                 NaN  \n",
      "min                 NaN  \n",
      "25%                 NaN  \n",
      "50%                 NaN  \n",
      "75%                 NaN  \n",
      "max                 NaN  \n",
      "\n",
      "[11 rows x 31 columns]\n",
      "\n",
      "Statistiques descriptives de USState_Codes:\n",
      "           US_State Abbreviation\n",
      "count            62           62\n",
      "unique           62           62\n",
      "top     Connecticut           VT\n",
      "freq              1            1\n"
     ]
    }
   ],
   "source": [
    "print(\"\\nStatistiques descriptives de AviationData:\")\n",
    "print(df1.describe(include='all'))\n",
    "print(\"\\nStatistiques descriptives de USState_Codes:\")\n",
    "print(df2.describe(include='all'))"
   ]
  },
  {
   "cell_type": "code",
   "execution_count": 21,
   "metadata": {},
   "outputs": [
    {
     "data": {
      "image/png": "[encoded data removed]",
      "text/plain": [
       "<Figure size 720x432 with 1 Axes>"
      ]
     },
     "metadata": {
      "needs_background": "light"
     },
     "output_type": "display_data"
    }
   ],
   "source": [
    "df1['Injury.Severity'].fillna('Inconnu', inplace=True)\n",
    "df1['Injury.Severity'] = df1['Injury.Severity'].str.replace(r'Fatal\\(\\d+\\)', 'Fatal', regex=True)\n",
    "plt.figure(figsize=(10, 6))\n",
    "sns.countplot(data=df1, x='Injury.Severity', order=df1['Injury.Severity'].value_counts().index)\n",
    "plt.title('Distribution de la Sévérité des Blessures')\n",
    "plt.xlabel('Sévérité des Blessures')\n",
    "plt.ylabel('Nombre d\\'Accidents')\n",
    "plt.xticks(rotation=45)\n",
    "plt.show()"
   ]
  },
  {
   "cell_type": "code",
   "execution_count": 22,
   "metadata": {},
   "outputs": [],
   "source": [
    "df1.drop_duplicates(inplace=True)"
   ]
  },
  {
   "cell_type": "code",
   "execution_count": 28,
   "metadata": {},
   "outputs": [
    {
     "name": "stdout",
     "output_type": "stream",
     "text": [
      "Injury.Severity    Fatal  Incident  Inconnu  Minor  Non-Fatal  Serious  \\\n",
      "Aircraft.Category                                                        \n",
      "Airplane            5181       246      814    165      21063      127   \n",
      "Balloon               17         0        0      0        208        6   \n",
      "Blimp                  0         0        0      0          4        0   \n",
      "Glider                86         0        0      4        416        2   \n",
      "Gyrocraft             37         0        0      5        131        0   \n",
      "Helicopter           799         9       65     33       2506       25   \n",
      "Powered Parachute     13         0        0      0         76        2   \n",
      "Powered-Lift           0         1        0      0          4        0   \n",
      "Rocket                 1         0        0      0          0        0   \n",
      "ULTR                   0         0        0      0          0        1   \n",
      "UNK                    0         0        2      0          0        0   \n",
      "Ultralight             8         0        0      0         22        0   \n",
      "Unknown                7         0        3      0          4        0   \n",
      "WSFT                   6         0        0      0          1        2   \n",
      "Weight-Shift          54         0        0      0        107        0   \n",
      "\n",
      "Injury.Severity    Unavailable  \n",
      "Aircraft.Category               \n",
      "Airplane                    21  \n",
      "Balloon                      0  \n",
      "Blimp                        0  \n",
      "Glider                       0  \n",
      "Gyrocraft                    0  \n",
      "Helicopter                   3  \n",
      "Powered Parachute            0  \n",
      "Powered-Lift                 0  \n",
      "Rocket                       0  \n",
      "ULTR                         0  \n",
      "UNK                          0  \n",
      "Ultralight                   0  \n",
      "Unknown                      0  \n",
      "WSFT                         0  \n",
      "Weight-Shift                 0  \n"
     ]
    }
   ],
   "source": [
    "aggregated_data = df1.groupby('Aircraft.Category')['Injury.Severity'].value_counts().unstack(fill_value=0)\n",
    "print(aggregated_data)"
   ]
  },
  {
   "cell_type": "code",
   "execution_count": 29,
   "metadata": {},
   "outputs": [
    {
     "name": "stdout",
     "output_type": "stream",
     "text": [
      "Statistiques descriptives :\n",
      "              Event.Id Investigation.Type Accident.Number  Event.Date  \\\n",
      "count            88889              88889           88889       88889   \n",
      "unique           87951                  2           88863       14782   \n",
      "top     20001214X45071           Accident      CEN23MA034  1984-06-30   \n",
      "freq                 3              85015               2          25   \n",
      "mean               NaN                NaN             NaN         NaN   \n",
      "std                NaN                NaN             NaN         NaN   \n",
      "min                NaN                NaN             NaN         NaN   \n",
      "25%                NaN                NaN             NaN         NaN   \n",
      "50%                NaN                NaN             NaN         NaN   \n",
      "75%                NaN                NaN             NaN         NaN   \n",
      "max                NaN                NaN             NaN         NaN   \n",
      "\n",
      "             Location        Country Latitude Longitude Airport.Code  \\\n",
      "count           88837          88663    34382     34373        50249   \n",
      "unique          27758            219    25589     27154        10375   \n",
      "top     ANCHORAGE, AK  United States  332739N  0112457W         NONE   \n",
      "freq              434          82248       19        24         1488   \n",
      "mean              NaN            NaN      NaN       NaN          NaN   \n",
      "std               NaN            NaN      NaN       NaN          NaN   \n",
      "min               NaN            NaN      NaN       NaN          NaN   \n",
      "25%               NaN            NaN      NaN       NaN          NaN   \n",
      "50%               NaN            NaN      NaN       NaN          NaN   \n",
      "75%               NaN            NaN      NaN       NaN          NaN   \n",
      "max               NaN            NaN      NaN       NaN          NaN   \n",
      "\n",
      "       Airport.Name  ... Purpose.of.flight Air.carrier Total.Fatal.Injuries  \\\n",
      "count         52790  ...             82697       16648         77488.000000   \n",
      "unique        24871  ...                26       13590                  NaN   \n",
      "top         Private  ...          Personal       Pilot                  NaN   \n",
      "freq            240  ...             49448         258                  NaN   \n",
      "mean            NaN  ...               NaN         NaN             0.647855   \n",
      "std             NaN  ...               NaN         NaN             5.485960   \n",
      "min             NaN  ...               NaN         NaN             0.000000   \n",
      "25%             NaN  ...               NaN         NaN             0.000000   \n",
      "50%             NaN  ...               NaN         NaN             0.000000   \n",
      "75%             NaN  ...               NaN         NaN             0.000000   \n",
      "max             NaN  ...               NaN         NaN           349.000000   \n",
      "\n",
      "       Total.Serious.Injuries Total.Minor.Injuries Total.Uninjured  \\\n",
      "count            76379.000000         76956.000000    82977.000000   \n",
      "unique                    NaN                  NaN             NaN   \n",
      "top                       NaN                  NaN             NaN   \n",
      "freq                      NaN                  NaN             NaN   \n",
      "mean                 0.279881             0.357061        5.325440   \n",
      "std                  1.544084             2.235625       27.913634   \n",
      "min                  0.000000             0.000000        0.000000   \n",
      "25%                  0.000000             0.000000        0.000000   \n",
      "50%                  0.000000             0.000000        1.000000   \n",
      "75%                  0.000000             0.000000        2.000000   \n",
      "max                161.000000           380.000000      699.000000   \n",
      "\n",
      "       Weather.Condition  Broad.phase.of.flight   Report.Status  \\\n",
      "count              84397                  61724           82508   \n",
      "unique                 4                     12           17075   \n",
      "top                  VMC                Landing  Probable Cause   \n",
      "freq               77303                  15428           61754   \n",
      "mean                 NaN                    NaN             NaN   \n",
      "std                  NaN                    NaN             NaN   \n",
      "min                  NaN                    NaN             NaN   \n",
      "25%                  NaN                    NaN             NaN   \n",
      "50%                  NaN                    NaN             NaN   \n",
      "75%                  NaN                    NaN             NaN   \n",
      "max                  NaN                    NaN             NaN   \n",
      "\n",
      "       Publication.Date  \n",
      "count             75118  \n",
      "unique             2924  \n",
      "top          25-09-2020  \n",
      "freq              17019  \n",
      "mean                NaN  \n",
      "std                 NaN  \n",
      "min                 NaN  \n",
      "25%                 NaN  \n",
      "50%                 NaN  \n",
      "75%                 NaN  \n",
      "max                 NaN  \n",
      "\n",
      "[11 rows x 31 columns]\n"
     ]
    }
   ],
   "source": [
    "statistics = df1.describe(include='all')  \n",
    "print(\"Statistiques descriptives :\")\n",
    "print(statistics)"
   ]
  },
  {
   "cell_type": "code",
   "execution_count": 32,
   "metadata": {},
   "outputs": [
    {
     "name": "stdout",
     "output_type": "stream",
     "text": [
      "\n",
      "Accidents par type d'avion :\n",
      "Airplane             27617\n",
      "Helicopter            3440\n",
      "Glider                 508\n",
      "Balloon                231\n",
      "Gyrocraft              173\n",
      "Weight-Shift           161\n",
      "Powered Parachute       91\n",
      "Ultralight              30\n",
      "Unknown                 14\n",
      "WSFT                     9\n",
      "Powered-Lift             5\n",
      "Blimp                    4\n",
      "UNK                      2\n",
      "ULTR                     1\n",
      "Rocket                   1\n",
      "Name: Aircraft.Category, dtype: int64\n"
     ]
    }
   ],
   "source": [
    "accidents_by_aircraft = df1['Aircraft.Category'].value_counts()\n",
    "print(\"\\nAccidents par type d'avion :\")\n",
    "print(accidents_by_aircraft)"
   ]
  },
  {
   "cell_type": "code",
   "execution_count": 33,
   "metadata": {},
   "outputs": [
    {
     "data": {
      "image/png": "[encoded data removed]",
      "text/plain": [
       "<Figure size 864x432 with 1 Axes>"
      ]
     },
     "metadata": {
      "needs_background": "light"
     },
     "output_type": "display_data"
    }
   ],
   "source": [
    "plt.figure(figsize=(12, 6))\n",
    "accidents_by_aircraft.plot(kind='bar')\n",
    "plt.title('Nombre d\\'Accidents par Type d\\'Avion')\n",
    "plt.xlabel('Type d\\'Avion')\n",
    "plt.ylabel('Nombre d\\'Accidents')\n",
    "plt.xticks(rotation=45)\n",
    "plt.show()"
   ]
  },
  {
   "cell_type": "code",
   "execution_count": 36,
   "metadata": {},
   "outputs": [],
   "source": [
    "# Recommandations basées sur l'analyse\n",
    "recommendations = [\n",
    "    \"Renforcer les réglementations de sécurité pour les types d'avions les plus impliqués dans des accidents.\",\n",
    "    \"Mettre en place des programmes de formation spécifiques pour les pilotes des types d'avions à haut risque.\",\n",
    "    \"Investir dans des technologies de sécurité avancées pour les modèles d'avions qui enregistrent un nombre élevé d'accidents.\"\n",
    "]"
   ]
  },
  {
   "cell_type": "code",
   "execution_count": 47,
   "metadata": {},
   "outputs": [
    {
     "data": {
      "image/png": "[encoded data removed]",
      "text/plain": [
       "<Figure size 864x432 with 1 Axes>"
      ]
     },
     "metadata": {
      "needs_background": "light"
     },
     "output_type": "display_data"
    }
   ],
   "source": [
    " df1['Event.Date'] = pd.to_datetime(df1['Event.Date'])  \n",
    " accidents_over_time = df1.groupby(df1['Event.Date'].dt.year)['Aircraft.Category'].count()  \n",
    "\n",
    " plt.figure(figsize=(12, 6))\n",
    " plt.plot(accidents_over_time.index, accidents_over_time.values, marker='o')\n",
    " plt.title('Tendances des Accidents au Fil des Ans')\n",
    " plt.xlabel('Année')\n",
    " plt.ylabel('Nombre d\\'Accidents')\n",
    " plt.grid()\n",
    " plt.show()"
   ]
  },
  {
   "cell_type": "code",
   "execution_count": null,
   "metadata": {},
   "outputs": [],
   "source": []
  }
 ],
 "metadata": {
  "kernelspec": {
   "display_name": "Python 3",
   "language": "python",
   "name": "python3"
  },
  "language_info": {
   "codemirror_mode": {
    "name": "ipython",
    "version": 3
   },
   "file_extension": ".py",
   "mimetype": "text/x-python",
   "name": "python",
   "nbconvert_exporter": "python",
   "pygments_lexer": "ipython3",
   "version": "3.8.5"
  }
 },
 "nbformat": 4,
 "nbformat_minor": 4
}
